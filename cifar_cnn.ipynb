{
 "cells": [
  {
   "cell_type": "code",
   "execution_count": null,
   "metadata": {},
   "outputs": [],
   "source": [
    "import keras\n",
    "import numpy as np\n",
    "from keras.callbacks import ModelCheckpoint\n",
    "from keras.datasets import cifar10\n",
    "from keras.layers import Dense, Dropout, Flatten, Activation, Conv2D, MaxPooling2D\n",
    "from keras.models import Sequential"
   ]
  },
  {
   "cell_type": "code",
   "execution_count": null,
   "metadata": {},
   "outputs": [],
   "source": [
    "# Constants\n",
    "NUM_CLASSES = 4\n",
    "CLASSES = [3,4,5,7]\n",
    "IMG_ROWS, IMG_COLS = 32, 32\n",
    "INPUT_SHAPE = (IMG_ROWS, IMG_COLS, 3)\n",
    "BATCH_SIZE = 200\n",
    "EPOCHS = 24\n",
    "CHECKPOINTS_PATH = 'checkpoints/cifar/'\n",
    "CHECKPOINTS_NAME = 'cifar4.hdf5'"
   ]
  },
  {
   "cell_type": "code",
   "execution_count": null,
   "metadata": {},
   "outputs": [],
   "source": [
    "# Load dataset function\n",
    "def read_CIFAR(classes):\n",
    "    '''\n",
    "        Read and preprocess the dataset. \n",
    "        Extract the given classes images from labels (0 to 9) and return a one hot encoded version\n",
    "    '''\n",
    "    # load data with keras function\n",
    "    (images_train, labels_train), (images_test, labels_test) = cifar10.load_data()\n",
    "    # Image category selection\n",
    "    images_train, labels_train = extract_classes(images_train, labels_train, classes)\n",
    "    images_test, labels_test = extract_classes(images_test, labels_test, classes)\n",
    "    # One hot encoding of labels\n",
    "    labels_train = keras.utils.to_categorical(labels_train)\n",
    "    labels_test = keras.utils.to_categorical(labels_test)\n",
    "\n",
    "    return images_train, labels_train, images_test, labels_test\n",
    "\n",
    "def extract_classes(images, labels, classes):\n",
    "    '''\n",
    "        Extract the given classes in images\n",
    "    '''\n",
    "    # extract the first class of images\n",
    "    indices = (labels == classes[0]).reshape(labels.size)\n",
    "    images_return = images[indices]\n",
    "    labels_return = np.zeros(images_return.shape[0])\n",
    "    \n",
    "    # extend the images_return and lables_return with remaining classes\n",
    "    for i in range(1,len(classes)):\n",
    "        indices = (labels == classes[i]).reshape(labels.size)\n",
    "        images_return = np.concatenate((images_return, images[indices]),axis=0)\n",
    "        labels_return = np.concatenate((labels_return, np.ones(images_return.shape[0] - labels_return.shape[0]) * i))\n",
    "    \n",
    "    return images_return, labels_return\n",
    "\n",
    "def use_checkpoints(path, file_name):\n",
    "    if not os.path.isdir(path):\n",
    "        os.makedir(path)\n",
    "    return ModelCheckpoint(path + file_name, monitor='loss', verbose=1, save_best_only=True, mode='auto')"
   ]
  },
  {
   "cell_type": "code",
   "execution_count": null,
   "metadata": {},
   "outputs": [],
   "source": [
    "# Model definition\n",
    "model = Sequential()\n",
    "\n",
    "# first conv followed by max pooling\n",
    "model.add(Conv2D(64, kernel_size=(3, 3), padding='same', activation='tanh', input_shape=INPUT_SHAPE))\n",
    "model.add(MaxPooling2D(pool_size=(4, 4), padding='same'))\n",
    "\n",
    "# second conv followed by max pooling\n",
    "model.add(Conv2D(64, kernel_size=(3, 3), padding='same', activation='tanh'))\n",
    "model.add(MaxPooling2D(pool_size=(4, 4), padding='same'))\n",
    "\n",
    "# flatten the network and use Dense layers\n",
    "model.add(Flatten())\n",
    "model.add(Dropout(0.5))\n",
    "model.add(Dense(1024, activation='sigmoid'))\n",
    "model.add(Dropout(0.5))\n",
    "model.add(Dense(NUM_CLASSES, activation='softmax'))\n",
    "\n",
    "# model.load_weights(\"checkpoints/cifar10/dt_weights-improvement-04-0.44.hdf5\")\n",
    "\n",
    "model.compile(loss=keras.losses.categorical_crossentropy,\n",
    "              optimizer=keras.optimizers.Adadelta(),\n",
    "              metrics=['accuracy'])"
   ]
  },
  {
   "cell_type": "code",
   "execution_count": null,
   "metadata": {},
   "outputs": [],
   "source": [
    "# View model summary \n",
    "model.summary()"
   ]
  },
  {
   "cell_type": "code",
   "execution_count": null,
   "metadata": {},
   "outputs": [],
   "source": [
    "# Load data\n",
    "images_train, labels_train, images_test, labels_test = read_CIFAR(CLASSES)\n",
    "\n",
    "# Train model\n",
    "model.fit(images_train,\n",
    "          labels_train,\n",
    "          batch_size=BATCH_SIZE,\n",
    "          epochs=EPOCHS,\n",
    "          shuffle=True,\n",
    "          verbose=1,\n",
    "          validation_split=0.33,\n",
    "          callbacks=[use_checkpoints(CHECKPOINTS_PATH, CHECKPOINTS_NAME)])"
   ]
  },
  {
   "cell_type": "code",
   "execution_count": null,
   "metadata": {},
   "outputs": [],
   "source": [
    "# Test model\n",
    "# Show some results of labeled test images\n",
    "N = 10\n",
    "\n",
    "images_plot = images_test[np.random.randint(0,images_test.size[0]-1,N)]\n",
    "autoencoded_imgs = autoencoder.predict(images_plot)\n",
    "plt.figure(figsize=(20, 4))\n",
    "for i in range(N):\n",
    "    ax = plt.subplot(2, N, i + 1)\n",
    "    plt.imshow(images_plot[i])\n",
    "    ax.get_xaxis().set_visible(False)\n",
    "    ax.get_yaxis().set_visible(False)\n",
    "plt.show()"
   ]
  }
 ],
 "metadata": {
  "kernelspec": {
   "display_name": "Python 3",
   "language": "python",
   "name": "python3"
  },
  "language_info": {
   "codemirror_mode": {
    "name": "ipython",
    "version": 3
   },
   "file_extension": ".py",
   "mimetype": "text/x-python",
   "name": "python",
   "nbconvert_exporter": "python",
   "pygments_lexer": "ipython3",
   "version": "3.6.5"
  }
 },
 "nbformat": 4,
 "nbformat_minor": 2
}
